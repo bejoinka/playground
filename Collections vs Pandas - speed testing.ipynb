{
 "cells": [
  {
   "cell_type": "markdown",
   "metadata": {},
   "source": [
    "## What started as a sheet for generators turned into a study of collections relative to pandas."
   ]
  },
  {
   "cell_type": "code",
   "execution_count": 1,
   "metadata": {},
   "outputs": [],
   "source": [
    "import math, json, collections, itertools\n",
    "import numpy as np\n",
    "import pandas as pd\n",
    "import matplotlib.pyplot as plt\n",
    "from typing import List\n",
    "%matplotlib inline"
   ]
  },
  {
   "cell_type": "markdown",
   "metadata": {},
   "source": [
    "### Here we check the timing between pd.read_table() and open() --> assign to a Medal object"
   ]
  },
  {
   "cell_type": "code",
   "execution_count": 3,
   "metadata": {},
   "outputs": [],
   "source": [
    "file = \"goldmedals.txt\"\n",
    "\n",
    "#Using Dataframes\n",
    "df = pd.read_table(file,header=None, names=['year','athlete','team','event'],)\n",
    "def clean_event_df(names: List[str]):\n",
    "    return [' '.join(word for word in name.split() if word not in ['men', 'women']) for name in names]\n",
    "df['event'] = clean_event_df(df['event'].values)\n",
    "top_athletes_from_df = df.groupby('athlete').nunique()\n",
    "\n",
    "# Using collections\n",
    "Medal = collections.namedtuple('medal',['year','athlete','team','event'])\n",
    "medals = [Medal(*line.strip().split('\\t')) for line in open(file, 'r')]\n",
    "def howmany(tup):\n",
    "    return len(tup[1])\n",
    "def clean_event(name):\n",
    "    return ' '.join(word for word in name.split() if word not in ['men', 'women'])\n",
    "d = collections.defaultdict(set)\n",
    "for medal in medals:\n",
    "    d[medal.athlete].add(clean_event(medal.event))\n",
    "top_athletes_from_collections = sorted(d.items(), key=howmany, reverse=True)"
   ]
  },
  {
   "cell_type": "markdown",
   "metadata": {},
   "source": [
    "### Pandas flexibility vs object immutability.\n",
    "### Turns out the namedtuple import is a bit faster... almost twice as fast.\n",
    "#### (Need to test with both smaller and larger datasets.)"
   ]
  },
  {
   "cell_type": "code",
   "execution_count": 4,
   "metadata": {},
   "outputs": [
    {
     "name": "stdout",
     "output_type": "stream",
     "text": [
      "2.95 ms ± 131 µs per loop (mean ± std. dev. of 7 runs, 100 loops each)\n"
     ]
    }
   ],
   "source": [
    "%%timeit\n",
    "file = \"goldmedals.txt\"\n",
    "df = pd.read_table(file,header=None, names=['year','athlete','team','event'],)"
   ]
  },
  {
   "cell_type": "code",
   "execution_count": 5,
   "metadata": {},
   "outputs": [
    {
     "name": "stdout",
     "output_type": "stream",
     "text": [
      "1.33 ms ± 19.1 µs per loop (mean ± std. dev. of 7 runs, 1000 loops each)\n"
     ]
    }
   ],
   "source": [
    "%%timeit\n",
    "file = \"goldmedals.txt\"\n",
    "Medal = collections.namedtuple('medal',['year','athlete','team','event'])\n",
    "medals = [Medal(*line.strip().split('\\t')) for line in open(file, 'r')]"
   ]
  },
  {
   "cell_type": "markdown",
   "metadata": {},
   "source": [
    "### Next we need to clean data(clean_event()) and count athletes who have won gold medals in different events.\n",
    "#### Vectorized cleaning is fastest"
   ]
  },
  {
   "cell_type": "code",
   "execution_count": 6,
   "metadata": {},
   "outputs": [
    {
     "name": "stdout",
     "output_type": "stream",
     "text": [
      "1.03 ms ± 8.99 µs per loop (mean ± std. dev. of 7 runs, 1000 loops each)\n"
     ]
    }
   ],
   "source": [
    "%%timeit\n",
    "def clean_event_df(names: List[str]):\n",
    "    return [' '.join(word for word in name.split() if word not in ['men', 'women']) for name in names]\n",
    "\n",
    "#running the clean_event on the vector of values rather than on each individual item is MUCH faster.\n",
    "df['event'] = clean_event_df(df['event'].values)"
   ]
  },
  {
   "cell_type": "code",
   "execution_count": 7,
   "metadata": {},
   "outputs": [
    {
     "name": "stdout",
     "output_type": "stream",
     "text": [
      "1.53 ms ± 21.5 µs per loop (mean ± std. dev. of 7 runs, 1000 loops each)\n"
     ]
    }
   ],
   "source": [
    "%%timeit\n",
    "def howmany(tup):\n",
    "    return len(tup[1])\n",
    "def clean_event(name):\n",
    "    return ' '.join(word for word in name.split() if word not in ['men', 'women'])\n",
    "\n",
    "d = collections.defaultdict(set)\n",
    "\n",
    "for medal in medals:\n",
    "    d[medal.athlete].add(clean_event(medal.event))"
   ]
  },
  {
   "cell_type": "markdown",
   "metadata": {},
   "source": [
    "### Now it's time to do the counting... here, of course, collections significantly outperforms pd."
   ]
  },
  {
   "cell_type": "code",
   "execution_count": 8,
   "metadata": {},
   "outputs": [
    {
     "name": "stdout",
     "output_type": "stream",
     "text": [
      "3.38 ms ± 80.9 µs per loop (mean ± std. dev. of 7 runs, 100 loops each)\n"
     ]
    }
   ],
   "source": [
    "%%timeit\n",
    "df.groupby('athlete').nunique()\n",
    "# df.pivot_table(values='team', index='event', columns='athlete', aggfunc='nunique').sum().sort_values(ascending=False)\n",
    "# The pivot table performs unnecessary operations and is slower than the groupby"
   ]
  },
  {
   "cell_type": "code",
   "execution_count": 9,
   "metadata": {},
   "outputs": [
    {
     "name": "stdout",
     "output_type": "stream",
     "text": [
      "154 µs ± 3.4 µs per loop (mean ± std. dev. of 7 runs, 10000 loops each)\n"
     ]
    }
   ],
   "source": [
    "%%timeit\n",
    "sorted(d.items(), key=howmany, reverse=True)"
   ]
  },
  {
   "cell_type": "markdown",
   "metadata": {},
   "source": [
    "### Other collections are quite a bit faster (almost a factor of 4) relative to groupby"
   ]
  },
  {
   "cell_type": "code",
   "execution_count": 10,
   "metadata": {},
   "outputs": [
    {
     "name": "stdout",
     "output_type": "stream",
     "text": [
      "681 µs ± 5.28 µs per loop (mean ± std. dev. of 7 runs, 1000 loops each)\n"
     ]
    }
   ],
   "source": [
    "%%timeit\n",
    "df.groupby('team')['year'].count().sort_values(ascending=False)[:5]"
   ]
  },
  {
   "cell_type": "code",
   "execution_count": 11,
   "metadata": {},
   "outputs": [
    {
     "name": "stdout",
     "output_type": "stream",
     "text": [
      "183 µs ± 3.35 µs per loop (mean ± std. dev. of 7 runs, 10000 loops each)\n"
     ]
    }
   ],
   "source": [
    "%%timeit\n",
    "teams = collections.Counter(medal.team for medal in medals)\n",
    "teams.most_common(5)"
   ]
  },
  {
   "cell_type": "markdown",
   "metadata": {},
   "source": [
    "### Here I'm playing with plots... not sure how it compares to plotting directly from pandas"
   ]
  },
  {
   "cell_type": "code",
   "execution_count": 12,
   "metadata": {},
   "outputs": [],
   "source": [
    "plt.style.use('ggplot')\n",
    "\n",
    "def best_by_year(year, top):\n",
    "    counts = collections.Counter(medal.team for medal in medals if medal.year == str(year))\n",
    "    best = counts.most_common(top)\n",
    "    return [b[0] for b in best], [b[1] for b in best]\n",
    "\n",
    "def plotyear(year, top):\n",
    "    colors = plt.cm.Set3(np.linspace(0,1,top))\n",
    "    countries, tally = best_by_year(year, top)\n",
    "    #plt.figure(figsize=(6,3))\n",
    "    bars = plt.bar(np.arange(top), tally, align='center')\n",
    "    plt.xticks(np.arange(top), countries)\n",
    "    for bar, color in zip(bars, colors):\n",
    "        bar.set_color(color)\n",
    "    plt.title(year)"
   ]
  },
  {
   "cell_type": "code",
   "execution_count": 13,
   "metadata": {},
   "outputs": [
    {
     "data": {
      "image/png": "[encoded data removed]",
      "text/plain": [
       "<Figure size 288x432 with 3 Axes>"
      ]
     },
     "metadata": {},
     "output_type": "display_data"
    }
   ],
   "source": [
    "plt.figure(figsize=(4,6))\n",
    "plt.subplot(3,1,1); plotyear(2008, 5)\n",
    "plt.subplot(3,1,2); plotyear(2012, 6)\n",
    "plt.subplot(3,1,3); plotyear(2016, 7)\n",
    "plt.tight_layout()"
   ]
  },
  {
   "cell_type": "markdown",
   "metadata": {},
   "source": [
    "### Finally... playing with kwargs in collections.\n",
    "#### This is worth spending more time"
   ]
  },
  {
   "cell_type": "code",
   "execution_count": 14,
   "metadata": {},
   "outputs": [],
   "source": [
    "def find_medal(**kwargs):\n",
    "    return [medal for medal in medals\n",
    "                  if all(getattr(medal,key, None) == value\n",
    "                         for key, value in kwargs.items())]"
   ]
  },
  {
   "cell_type": "code",
   "execution_count": 15,
   "metadata": {},
   "outputs": [
    {
     "data": {
      "text/plain": [
       "[medal(year='1984', athlete='Carl Lewis', team='USA', event='100m men'),\n",
       " medal(year='1984', athlete='Carl Lewis', team='USA', event='200m men'),\n",
       " medal(year='1984', athlete='Carl Lewis', team='USA', event='4x100m relay men'),\n",
       " medal(year='1984', athlete='Carl Lewis', team='USA', event='long jump men'),\n",
       " medal(year='1988', athlete='Carl Lewis', team='USA', event='100m men'),\n",
       " medal(year='1988', athlete='Carl Lewis', team='USA', event='long jump men'),\n",
       " medal(year='1992', athlete='Carl Lewis', team='USA', event='4x100m relay men'),\n",
       " medal(year='1992', athlete='Carl Lewis', team='USA', event='long jump men'),\n",
       " medal(year='1996', athlete='Carl Lewis', team='USA', event='long jump men')]"
      ]
     },
     "execution_count": 15,
     "metadata": {},
     "output_type": "execute_result"
    }
   ],
   "source": [
    "find_medal(athlete='Carl Lewis')"
   ]
  }
 ],
 "metadata": {
  "kernelspec": {
   "display_name": "Python 3",
   "language": "python",
   "name": "python3"
  },
  "language_info": {
   "codemirror_mode": {
    "name": "ipython",
    "version": 3
   },
   "file_extension": ".py",
   "mimetype": "text/x-python",
   "name": "python",
   "nbconvert_exporter": "python",
   "pygments_lexer": "ipython3",
   "version": "3.7.1"
  }
 },
 "nbformat": 4,
 "nbformat_minor": 2
}
